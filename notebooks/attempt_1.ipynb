{
 "cells": [
  {
   "cell_type": "code",
   "execution_count": 26,
   "metadata": {
    "collapsed": false
   },
   "outputs": [],
   "source": [
    "import pandas as pd\n",
    "import numpy as np\n",
    "import matplotlib.pyplot as plt\n",
    "from sklearn.tree import DecisionTreeClassifier, ExtraTreeClassifier, ExtraTreeRegressor\n",
    "from sklearn import preprocessing, cross_validation\n",
    "from sklearn.ensemble import GradientBoostingClassifier, ExtraTreesRegressor\n",
    "from sklearn.grid_search import GridSearchCV"
   ]
  },
  {
   "cell_type": "code",
   "execution_count": null,
   "metadata": {
    "collapsed": false
   },
   "outputs": [],
   "source": []
  },
  {
   "cell_type": "code",
   "execution_count": 27,
   "metadata": {
    "collapsed": true
   },
   "outputs": [],
   "source": [
    "rootpath = '/Users/nikita/Documents/python_3_filies/mlbootcamp/mlbootcamp_4/files/'"
   ]
  },
  {
   "cell_type": "code",
   "execution_count": 28,
   "metadata": {
    "collapsed": true
   },
   "outputs": [],
   "source": [
    "data_x_train = pd.read_csv(rootpath+'x_train.csv', delimiter=';')\n",
    "data_y_train = pd.read_csv(rootpath+'y_train.csv', delimiter=';')\n",
    "data_x_test = pd.read_csv(rootpath+'x_test.csv', delimiter=';')"
   ]
  },
  {
   "cell_type": "code",
   "execution_count": 29,
   "metadata": {
    "collapsed": false
   },
   "outputs": [],
   "source": [
    "data = pd.concat([data_x_train,data_y_train],1)"
   ]
  },
  {
   "cell_type": "code",
   "execution_count": 30,
   "metadata": {
    "collapsed": false
   },
   "outputs": [
    {
     "data": {
      "text/html": [
       "<div>\n",
       "<table border=\"1\" class=\"dataframe\">\n",
       "  <thead>\n",
       "    <tr style=\"text-align: right;\">\n",
       "      <th></th>\n",
       "      <th>maxPlayerLevel</th>\n",
       "      <th>numberOfAttemptedLevels</th>\n",
       "      <th>attemptsOnTheHighestLevel</th>\n",
       "      <th>totalNumOfAttempts</th>\n",
       "      <th>averageNumOfTurnsPerCompletedLevel</th>\n",
       "      <th>doReturnOnLowerLevels</th>\n",
       "      <th>numberOfBoostersUsed</th>\n",
       "      <th>fractionOfUsefullBoosters</th>\n",
       "      <th>totalScore</th>\n",
       "      <th>totalBonusScore</th>\n",
       "      <th>totalStarsCount</th>\n",
       "      <th>numberOfDaysActuallyPlayed</th>\n",
       "      <th>Y</th>\n",
       "    </tr>\n",
       "  </thead>\n",
       "  <tbody>\n",
       "    <tr>\n",
       "      <th>0</th>\n",
       "      <td>39</td>\n",
       "      <td>10</td>\n",
       "      <td>3</td>\n",
       "      <td>17</td>\n",
       "      <td>24.444444</td>\n",
       "      <td>1</td>\n",
       "      <td>5</td>\n",
       "      <td>0.400000</td>\n",
       "      <td>2650000</td>\n",
       "      <td>1375</td>\n",
       "      <td>21</td>\n",
       "      <td>2</td>\n",
       "      <td>0</td>\n",
       "    </tr>\n",
       "    <tr>\n",
       "      <th>1</th>\n",
       "      <td>21</td>\n",
       "      <td>22</td>\n",
       "      <td>19</td>\n",
       "      <td>55</td>\n",
       "      <td>17.045455</td>\n",
       "      <td>1</td>\n",
       "      <td>6</td>\n",
       "      <td>0.333333</td>\n",
       "      <td>5614000</td>\n",
       "      <td>3825</td>\n",
       "      <td>51</td>\n",
       "      <td>4</td>\n",
       "      <td>1</td>\n",
       "    </tr>\n",
       "    <tr>\n",
       "      <th>2</th>\n",
       "      <td>5</td>\n",
       "      <td>6</td>\n",
       "      <td>1</td>\n",
       "      <td>6</td>\n",
       "      <td>8.400000</td>\n",
       "      <td>0</td>\n",
       "      <td>1</td>\n",
       "      <td>1.000000</td>\n",
       "      <td>857000</td>\n",
       "      <td>1150</td>\n",
       "      <td>14</td>\n",
       "      <td>1</td>\n",
       "      <td>1</td>\n",
       "    </tr>\n",
       "    <tr>\n",
       "      <th>3</th>\n",
       "      <td>21</td>\n",
       "      <td>2</td>\n",
       "      <td>5</td>\n",
       "      <td>6</td>\n",
       "      <td>19.000000</td>\n",
       "      <td>0</td>\n",
       "      <td>1</td>\n",
       "      <td>0.000000</td>\n",
       "      <td>120000</td>\n",
       "      <td>0</td>\n",
       "      <td>1</td>\n",
       "      <td>1</td>\n",
       "      <td>1</td>\n",
       "    </tr>\n",
       "    <tr>\n",
       "      <th>4</th>\n",
       "      <td>4</td>\n",
       "      <td>5</td>\n",
       "      <td>1</td>\n",
       "      <td>5</td>\n",
       "      <td>9.600000</td>\n",
       "      <td>0</td>\n",
       "      <td>1</td>\n",
       "      <td>1.000000</td>\n",
       "      <td>857000</td>\n",
       "      <td>1075</td>\n",
       "      <td>12</td>\n",
       "      <td>1</td>\n",
       "      <td>0</td>\n",
       "    </tr>\n",
       "  </tbody>\n",
       "</table>\n",
       "</div>"
      ],
      "text/plain": [
       "   maxPlayerLevel  numberOfAttemptedLevels  attemptsOnTheHighestLevel  \\\n",
       "0              39                       10                          3   \n",
       "1              21                       22                         19   \n",
       "2               5                        6                          1   \n",
       "3              21                        2                          5   \n",
       "4               4                        5                          1   \n",
       "\n",
       "   totalNumOfAttempts  averageNumOfTurnsPerCompletedLevel  \\\n",
       "0                  17                           24.444444   \n",
       "1                  55                           17.045455   \n",
       "2                   6                            8.400000   \n",
       "3                   6                           19.000000   \n",
       "4                   5                            9.600000   \n",
       "\n",
       "   doReturnOnLowerLevels  numberOfBoostersUsed  fractionOfUsefullBoosters  \\\n",
       "0                      1                     5                   0.400000   \n",
       "1                      1                     6                   0.333333   \n",
       "2                      0                     1                   1.000000   \n",
       "3                      0                     1                   0.000000   \n",
       "4                      0                     1                   1.000000   \n",
       "\n",
       "   totalScore  totalBonusScore  totalStarsCount  numberOfDaysActuallyPlayed  Y  \n",
       "0     2650000             1375               21                           2  0  \n",
       "1     5614000             3825               51                           4  1  \n",
       "2      857000             1150               14                           1  1  \n",
       "3      120000                0                1                           1  1  \n",
       "4      857000             1075               12                           1  0  "
      ]
     },
     "execution_count": 30,
     "metadata": {},
     "output_type": "execute_result"
    }
   ],
   "source": [
    "data.head()"
   ]
  },
  {
   "cell_type": "code",
   "execution_count": 31,
   "metadata": {
    "collapsed": false
   },
   "outputs": [
    {
     "data": {
      "text/html": [
       "<div>\n",
       "<table border=\"1\" class=\"dataframe\">\n",
       "  <thead>\n",
       "    <tr style=\"text-align: right;\">\n",
       "      <th></th>\n",
       "      <th>maxPlayerLevel</th>\n",
       "      <th>numberOfAttemptedLevels</th>\n",
       "      <th>attemptsOnTheHighestLevel</th>\n",
       "      <th>totalNumOfAttempts</th>\n",
       "      <th>averageNumOfTurnsPerCompletedLevel</th>\n",
       "      <th>doReturnOnLowerLevels</th>\n",
       "      <th>numberOfBoostersUsed</th>\n",
       "      <th>fractionOfUsefullBoosters</th>\n",
       "      <th>totalScore</th>\n",
       "      <th>totalBonusScore</th>\n",
       "      <th>totalStarsCount</th>\n",
       "      <th>numberOfDaysActuallyPlayed</th>\n",
       "    </tr>\n",
       "  </thead>\n",
       "  <tbody>\n",
       "    <tr>\n",
       "      <th>count</th>\n",
       "      <td>25289.000000</td>\n",
       "      <td>25289.000000</td>\n",
       "      <td>25289.000000</td>\n",
       "      <td>25289.000000</td>\n",
       "      <td>25289.000000</td>\n",
       "      <td>25289.000000</td>\n",
       "      <td>25289.000000</td>\n",
       "      <td>25289.000000</td>\n",
       "      <td>2.528900e+04</td>\n",
       "      <td>25289.000000</td>\n",
       "      <td>25289.000000</td>\n",
       "      <td>25289.000000</td>\n",
       "    </tr>\n",
       "    <tr>\n",
       "      <th>mean</th>\n",
       "      <td>18.424888</td>\n",
       "      <td>12.415991</td>\n",
       "      <td>3.507612</td>\n",
       "      <td>26.841393</td>\n",
       "      <td>13.330451</td>\n",
       "      <td>0.152438</td>\n",
       "      <td>4.901222</td>\n",
       "      <td>0.534841</td>\n",
       "      <td>2.884268e+06</td>\n",
       "      <td>2138.215232</td>\n",
       "      <td>26.884495</td>\n",
       "      <td>2.725058</td>\n",
       "    </tr>\n",
       "    <tr>\n",
       "      <th>std</th>\n",
       "      <td>20.172964</td>\n",
       "      <td>12.991894</td>\n",
       "      <td>6.766648</td>\n",
       "      <td>39.993029</td>\n",
       "      <td>6.657224</td>\n",
       "      <td>0.359452</td>\n",
       "      <td>6.630469</td>\n",
       "      <td>0.402091</td>\n",
       "      <td>3.415374e+06</td>\n",
       "      <td>2169.987109</td>\n",
       "      <td>29.403565</td>\n",
       "      <td>2.765350</td>\n",
       "    </tr>\n",
       "    <tr>\n",
       "      <th>min</th>\n",
       "      <td>0.000000</td>\n",
       "      <td>1.000000</td>\n",
       "      <td>1.000000</td>\n",
       "      <td>1.000000</td>\n",
       "      <td>0.000000</td>\n",
       "      <td>0.000000</td>\n",
       "      <td>0.000000</td>\n",
       "      <td>0.000000</td>\n",
       "      <td>0.000000e+00</td>\n",
       "      <td>0.000000</td>\n",
       "      <td>0.000000</td>\n",
       "      <td>1.000000</td>\n",
       "    </tr>\n",
       "    <tr>\n",
       "      <th>25%</th>\n",
       "      <td>4.000000</td>\n",
       "      <td>3.000000</td>\n",
       "      <td>1.000000</td>\n",
       "      <td>4.000000</td>\n",
       "      <td>8.400000</td>\n",
       "      <td>0.000000</td>\n",
       "      <td>0.000000</td>\n",
       "      <td>0.000000</td>\n",
       "      <td>4.830000e+05</td>\n",
       "      <td>575.000000</td>\n",
       "      <td>6.000000</td>\n",
       "      <td>1.000000</td>\n",
       "    </tr>\n",
       "    <tr>\n",
       "      <th>50%</th>\n",
       "      <td>11.000000</td>\n",
       "      <td>8.000000</td>\n",
       "      <td>1.000000</td>\n",
       "      <td>12.000000</td>\n",
       "      <td>14.555556</td>\n",
       "      <td>0.000000</td>\n",
       "      <td>2.000000</td>\n",
       "      <td>0.619048</td>\n",
       "      <td>1.700000e+06</td>\n",
       "      <td>1500.000000</td>\n",
       "      <td>18.000000</td>\n",
       "      <td>1.000000</td>\n",
       "    </tr>\n",
       "    <tr>\n",
       "      <th>75%</th>\n",
       "      <td>27.000000</td>\n",
       "      <td>16.000000</td>\n",
       "      <td>3.000000</td>\n",
       "      <td>31.000000</td>\n",
       "      <td>17.720000</td>\n",
       "      <td>0.000000</td>\n",
       "      <td>6.000000</td>\n",
       "      <td>1.000000</td>\n",
       "      <td>3.890000e+06</td>\n",
       "      <td>2875.000000</td>\n",
       "      <td>37.000000</td>\n",
       "      <td>3.000000</td>\n",
       "    </tr>\n",
       "    <tr>\n",
       "      <th>max</th>\n",
       "      <td>146.000000</td>\n",
       "      <td>142.000000</td>\n",
       "      <td>186.000000</td>\n",
       "      <td>563.000000</td>\n",
       "      <td>40.000000</td>\n",
       "      <td>1.000000</td>\n",
       "      <td>81.000000</td>\n",
       "      <td>1.000000</td>\n",
       "      <td>3.133800e+07</td>\n",
       "      <td>24275.000000</td>\n",
       "      <td>319.000000</td>\n",
       "      <td>14.000000</td>\n",
       "    </tr>\n",
       "  </tbody>\n",
       "</table>\n",
       "</div>"
      ],
      "text/plain": [
       "       maxPlayerLevel  numberOfAttemptedLevels  attemptsOnTheHighestLevel  \\\n",
       "count    25289.000000             25289.000000               25289.000000   \n",
       "mean        18.424888                12.415991                   3.507612   \n",
       "std         20.172964                12.991894                   6.766648   \n",
       "min          0.000000                 1.000000                   1.000000   \n",
       "25%          4.000000                 3.000000                   1.000000   \n",
       "50%         11.000000                 8.000000                   1.000000   \n",
       "75%         27.000000                16.000000                   3.000000   \n",
       "max        146.000000               142.000000                 186.000000   \n",
       "\n",
       "       totalNumOfAttempts  averageNumOfTurnsPerCompletedLevel  \\\n",
       "count        25289.000000                        25289.000000   \n",
       "mean            26.841393                           13.330451   \n",
       "std             39.993029                            6.657224   \n",
       "min              1.000000                            0.000000   \n",
       "25%              4.000000                            8.400000   \n",
       "50%             12.000000                           14.555556   \n",
       "75%             31.000000                           17.720000   \n",
       "max            563.000000                           40.000000   \n",
       "\n",
       "       doReturnOnLowerLevels  numberOfBoostersUsed  fractionOfUsefullBoosters  \\\n",
       "count           25289.000000          25289.000000               25289.000000   \n",
       "mean                0.152438              4.901222                   0.534841   \n",
       "std                 0.359452              6.630469                   0.402091   \n",
       "min                 0.000000              0.000000                   0.000000   \n",
       "25%                 0.000000              0.000000                   0.000000   \n",
       "50%                 0.000000              2.000000                   0.619048   \n",
       "75%                 0.000000              6.000000                   1.000000   \n",
       "max                 1.000000             81.000000                   1.000000   \n",
       "\n",
       "         totalScore  totalBonusScore  totalStarsCount  \\\n",
       "count  2.528900e+04     25289.000000     25289.000000   \n",
       "mean   2.884268e+06      2138.215232        26.884495   \n",
       "std    3.415374e+06      2169.987109        29.403565   \n",
       "min    0.000000e+00         0.000000         0.000000   \n",
       "25%    4.830000e+05       575.000000         6.000000   \n",
       "50%    1.700000e+06      1500.000000        18.000000   \n",
       "75%    3.890000e+06      2875.000000        37.000000   \n",
       "max    3.133800e+07     24275.000000       319.000000   \n",
       "\n",
       "       numberOfDaysActuallyPlayed  \n",
       "count                25289.000000  \n",
       "mean                     2.725058  \n",
       "std                      2.765350  \n",
       "min                      1.000000  \n",
       "25%                      1.000000  \n",
       "50%                      1.000000  \n",
       "75%                      3.000000  \n",
       "max                     14.000000  "
      ]
     },
     "execution_count": 31,
     "metadata": {},
     "output_type": "execute_result"
    }
   ],
   "source": [
    "data_x_train.describe()"
   ]
  },
  {
   "cell_type": "code",
   "execution_count": 32,
   "metadata": {
    "collapsed": false
   },
   "outputs": [
    {
     "data": {
      "text/html": [
       "<div>\n",
       "<table border=\"1\" class=\"dataframe\">\n",
       "  <thead>\n",
       "    <tr style=\"text-align: right;\">\n",
       "      <th></th>\n",
       "      <th>maxPlayerLevel</th>\n",
       "      <th>numberOfAttemptedLevels</th>\n",
       "      <th>attemptsOnTheHighestLevel</th>\n",
       "      <th>totalNumOfAttempts</th>\n",
       "      <th>averageNumOfTurnsPerCompletedLevel</th>\n",
       "      <th>doReturnOnLowerLevels</th>\n",
       "      <th>numberOfBoostersUsed</th>\n",
       "      <th>fractionOfUsefullBoosters</th>\n",
       "      <th>totalScore</th>\n",
       "      <th>totalBonusScore</th>\n",
       "      <th>totalStarsCount</th>\n",
       "      <th>numberOfDaysActuallyPlayed</th>\n",
       "    </tr>\n",
       "  </thead>\n",
       "  <tbody>\n",
       "    <tr>\n",
       "      <th>maxPlayerLevel</th>\n",
       "      <td>1.000000</td>\n",
       "      <td>0.620912</td>\n",
       "      <td>0.457484</td>\n",
       "      <td>0.762086</td>\n",
       "      <td>0.685171</td>\n",
       "      <td>0.354431</td>\n",
       "      <td>0.676360</td>\n",
       "      <td>0.129995</td>\n",
       "      <td>0.576620</td>\n",
       "      <td>0.556243</td>\n",
       "      <td>0.584167</td>\n",
       "      <td>0.792139</td>\n",
       "    </tr>\n",
       "    <tr>\n",
       "      <th>numberOfAttemptedLevels</th>\n",
       "      <td>0.620912</td>\n",
       "      <td>1.000000</td>\n",
       "      <td>0.300447</td>\n",
       "      <td>0.837265</td>\n",
       "      <td>0.528650</td>\n",
       "      <td>0.272052</td>\n",
       "      <td>0.882195</td>\n",
       "      <td>0.331918</td>\n",
       "      <td>0.981149</td>\n",
       "      <td>0.989012</td>\n",
       "      <td>0.993710</td>\n",
       "      <td>0.658216</td>\n",
       "    </tr>\n",
       "    <tr>\n",
       "      <th>attemptsOnTheHighestLevel</th>\n",
       "      <td>0.457484</td>\n",
       "      <td>0.300447</td>\n",
       "      <td>1.000000</td>\n",
       "      <td>0.525718</td>\n",
       "      <td>0.279398</td>\n",
       "      <td>0.169701</td>\n",
       "      <td>0.365483</td>\n",
       "      <td>-0.025433</td>\n",
       "      <td>0.275587</td>\n",
       "      <td>0.266379</td>\n",
       "      <td>0.281988</td>\n",
       "      <td>0.507272</td>\n",
       "    </tr>\n",
       "    <tr>\n",
       "      <th>totalNumOfAttempts</th>\n",
       "      <td>0.762086</td>\n",
       "      <td>0.837265</td>\n",
       "      <td>0.525718</td>\n",
       "      <td>1.000000</td>\n",
       "      <td>0.510304</td>\n",
       "      <td>0.370190</td>\n",
       "      <td>0.832717</td>\n",
       "      <td>0.134772</td>\n",
       "      <td>0.799943</td>\n",
       "      <td>0.797003</td>\n",
       "      <td>0.810111</td>\n",
       "      <td>0.842967</td>\n",
       "    </tr>\n",
       "    <tr>\n",
       "      <th>averageNumOfTurnsPerCompletedLevel</th>\n",
       "      <td>0.685171</td>\n",
       "      <td>0.528650</td>\n",
       "      <td>0.279398</td>\n",
       "      <td>0.510304</td>\n",
       "      <td>1.000000</td>\n",
       "      <td>0.243830</td>\n",
       "      <td>0.542728</td>\n",
       "      <td>0.460191</td>\n",
       "      <td>0.498455</td>\n",
       "      <td>0.486391</td>\n",
       "      <td>0.511382</td>\n",
       "      <td>0.554519</td>\n",
       "    </tr>\n",
       "    <tr>\n",
       "      <th>doReturnOnLowerLevels</th>\n",
       "      <td>0.354431</td>\n",
       "      <td>0.272052</td>\n",
       "      <td>0.169701</td>\n",
       "      <td>0.370190</td>\n",
       "      <td>0.243830</td>\n",
       "      <td>1.000000</td>\n",
       "      <td>0.295576</td>\n",
       "      <td>0.070397</td>\n",
       "      <td>0.294040</td>\n",
       "      <td>0.255885</td>\n",
       "      <td>0.271975</td>\n",
       "      <td>0.354498</td>\n",
       "    </tr>\n",
       "    <tr>\n",
       "      <th>numberOfBoostersUsed</th>\n",
       "      <td>0.676360</td>\n",
       "      <td>0.882195</td>\n",
       "      <td>0.365483</td>\n",
       "      <td>0.832717</td>\n",
       "      <td>0.542728</td>\n",
       "      <td>0.295576</td>\n",
       "      <td>1.000000</td>\n",
       "      <td>0.205145</td>\n",
       "      <td>0.856613</td>\n",
       "      <td>0.852834</td>\n",
       "      <td>0.863115</td>\n",
       "      <td>0.743613</td>\n",
       "    </tr>\n",
       "    <tr>\n",
       "      <th>fractionOfUsefullBoosters</th>\n",
       "      <td>0.129995</td>\n",
       "      <td>0.331918</td>\n",
       "      <td>-0.025433</td>\n",
       "      <td>0.134772</td>\n",
       "      <td>0.460191</td>\n",
       "      <td>0.070397</td>\n",
       "      <td>0.205145</td>\n",
       "      <td>1.000000</td>\n",
       "      <td>0.329909</td>\n",
       "      <td>0.357128</td>\n",
       "      <td>0.357209</td>\n",
       "      <td>0.065761</td>\n",
       "    </tr>\n",
       "    <tr>\n",
       "      <th>totalScore</th>\n",
       "      <td>0.576620</td>\n",
       "      <td>0.981149</td>\n",
       "      <td>0.275587</td>\n",
       "      <td>0.799943</td>\n",
       "      <td>0.498455</td>\n",
       "      <td>0.294040</td>\n",
       "      <td>0.856613</td>\n",
       "      <td>0.329909</td>\n",
       "      <td>1.000000</td>\n",
       "      <td>0.986286</td>\n",
       "      <td>0.987379</td>\n",
       "      <td>0.612840</td>\n",
       "    </tr>\n",
       "    <tr>\n",
       "      <th>totalBonusScore</th>\n",
       "      <td>0.556243</td>\n",
       "      <td>0.989012</td>\n",
       "      <td>0.266379</td>\n",
       "      <td>0.797003</td>\n",
       "      <td>0.486391</td>\n",
       "      <td>0.255885</td>\n",
       "      <td>0.852834</td>\n",
       "      <td>0.357128</td>\n",
       "      <td>0.986286</td>\n",
       "      <td>1.000000</td>\n",
       "      <td>0.997476</td>\n",
       "      <td>0.601374</td>\n",
       "    </tr>\n",
       "    <tr>\n",
       "      <th>totalStarsCount</th>\n",
       "      <td>0.584167</td>\n",
       "      <td>0.993710</td>\n",
       "      <td>0.281988</td>\n",
       "      <td>0.810111</td>\n",
       "      <td>0.511382</td>\n",
       "      <td>0.271975</td>\n",
       "      <td>0.863115</td>\n",
       "      <td>0.357209</td>\n",
       "      <td>0.987379</td>\n",
       "      <td>0.997476</td>\n",
       "      <td>1.000000</td>\n",
       "      <td>0.620516</td>\n",
       "    </tr>\n",
       "    <tr>\n",
       "      <th>numberOfDaysActuallyPlayed</th>\n",
       "      <td>0.792139</td>\n",
       "      <td>0.658216</td>\n",
       "      <td>0.507272</td>\n",
       "      <td>0.842967</td>\n",
       "      <td>0.554519</td>\n",
       "      <td>0.354498</td>\n",
       "      <td>0.743613</td>\n",
       "      <td>0.065761</td>\n",
       "      <td>0.612840</td>\n",
       "      <td>0.601374</td>\n",
       "      <td>0.620516</td>\n",
       "      <td>1.000000</td>\n",
       "    </tr>\n",
       "  </tbody>\n",
       "</table>\n",
       "</div>"
      ],
      "text/plain": [
       "                                    maxPlayerLevel  numberOfAttemptedLevels  \\\n",
       "maxPlayerLevel                            1.000000                 0.620912   \n",
       "numberOfAttemptedLevels                   0.620912                 1.000000   \n",
       "attemptsOnTheHighestLevel                 0.457484                 0.300447   \n",
       "totalNumOfAttempts                        0.762086                 0.837265   \n",
       "averageNumOfTurnsPerCompletedLevel        0.685171                 0.528650   \n",
       "doReturnOnLowerLevels                     0.354431                 0.272052   \n",
       "numberOfBoostersUsed                      0.676360                 0.882195   \n",
       "fractionOfUsefullBoosters                 0.129995                 0.331918   \n",
       "totalScore                                0.576620                 0.981149   \n",
       "totalBonusScore                           0.556243                 0.989012   \n",
       "totalStarsCount                           0.584167                 0.993710   \n",
       "numberOfDaysActuallyPlayed                0.792139                 0.658216   \n",
       "\n",
       "                                    attemptsOnTheHighestLevel  \\\n",
       "maxPlayerLevel                                       0.457484   \n",
       "numberOfAttemptedLevels                              0.300447   \n",
       "attemptsOnTheHighestLevel                            1.000000   \n",
       "totalNumOfAttempts                                   0.525718   \n",
       "averageNumOfTurnsPerCompletedLevel                   0.279398   \n",
       "doReturnOnLowerLevels                                0.169701   \n",
       "numberOfBoostersUsed                                 0.365483   \n",
       "fractionOfUsefullBoosters                           -0.025433   \n",
       "totalScore                                           0.275587   \n",
       "totalBonusScore                                      0.266379   \n",
       "totalStarsCount                                      0.281988   \n",
       "numberOfDaysActuallyPlayed                           0.507272   \n",
       "\n",
       "                                    totalNumOfAttempts  \\\n",
       "maxPlayerLevel                                0.762086   \n",
       "numberOfAttemptedLevels                       0.837265   \n",
       "attemptsOnTheHighestLevel                     0.525718   \n",
       "totalNumOfAttempts                            1.000000   \n",
       "averageNumOfTurnsPerCompletedLevel            0.510304   \n",
       "doReturnOnLowerLevels                         0.370190   \n",
       "numberOfBoostersUsed                          0.832717   \n",
       "fractionOfUsefullBoosters                     0.134772   \n",
       "totalScore                                    0.799943   \n",
       "totalBonusScore                               0.797003   \n",
       "totalStarsCount                               0.810111   \n",
       "numberOfDaysActuallyPlayed                    0.842967   \n",
       "\n",
       "                                    averageNumOfTurnsPerCompletedLevel  \\\n",
       "maxPlayerLevel                                                0.685171   \n",
       "numberOfAttemptedLevels                                       0.528650   \n",
       "attemptsOnTheHighestLevel                                     0.279398   \n",
       "totalNumOfAttempts                                            0.510304   \n",
       "averageNumOfTurnsPerCompletedLevel                            1.000000   \n",
       "doReturnOnLowerLevels                                         0.243830   \n",
       "numberOfBoostersUsed                                          0.542728   \n",
       "fractionOfUsefullBoosters                                     0.460191   \n",
       "totalScore                                                    0.498455   \n",
       "totalBonusScore                                               0.486391   \n",
       "totalStarsCount                                               0.511382   \n",
       "numberOfDaysActuallyPlayed                                    0.554519   \n",
       "\n",
       "                                    doReturnOnLowerLevels  \\\n",
       "maxPlayerLevel                                   0.354431   \n",
       "numberOfAttemptedLevels                          0.272052   \n",
       "attemptsOnTheHighestLevel                        0.169701   \n",
       "totalNumOfAttempts                               0.370190   \n",
       "averageNumOfTurnsPerCompletedLevel               0.243830   \n",
       "doReturnOnLowerLevels                            1.000000   \n",
       "numberOfBoostersUsed                             0.295576   \n",
       "fractionOfUsefullBoosters                        0.070397   \n",
       "totalScore                                       0.294040   \n",
       "totalBonusScore                                  0.255885   \n",
       "totalStarsCount                                  0.271975   \n",
       "numberOfDaysActuallyPlayed                       0.354498   \n",
       "\n",
       "                                    numberOfBoostersUsed  \\\n",
       "maxPlayerLevel                                  0.676360   \n",
       "numberOfAttemptedLevels                         0.882195   \n",
       "attemptsOnTheHighestLevel                       0.365483   \n",
       "totalNumOfAttempts                              0.832717   \n",
       "averageNumOfTurnsPerCompletedLevel              0.542728   \n",
       "doReturnOnLowerLevels                           0.295576   \n",
       "numberOfBoostersUsed                            1.000000   \n",
       "fractionOfUsefullBoosters                       0.205145   \n",
       "totalScore                                      0.856613   \n",
       "totalBonusScore                                 0.852834   \n",
       "totalStarsCount                                 0.863115   \n",
       "numberOfDaysActuallyPlayed                      0.743613   \n",
       "\n",
       "                                    fractionOfUsefullBoosters  totalScore  \\\n",
       "maxPlayerLevel                                       0.129995    0.576620   \n",
       "numberOfAttemptedLevels                              0.331918    0.981149   \n",
       "attemptsOnTheHighestLevel                           -0.025433    0.275587   \n",
       "totalNumOfAttempts                                   0.134772    0.799943   \n",
       "averageNumOfTurnsPerCompletedLevel                   0.460191    0.498455   \n",
       "doReturnOnLowerLevels                                0.070397    0.294040   \n",
       "numberOfBoostersUsed                                 0.205145    0.856613   \n",
       "fractionOfUsefullBoosters                            1.000000    0.329909   \n",
       "totalScore                                           0.329909    1.000000   \n",
       "totalBonusScore                                      0.357128    0.986286   \n",
       "totalStarsCount                                      0.357209    0.987379   \n",
       "numberOfDaysActuallyPlayed                           0.065761    0.612840   \n",
       "\n",
       "                                    totalBonusScore  totalStarsCount  \\\n",
       "maxPlayerLevel                             0.556243         0.584167   \n",
       "numberOfAttemptedLevels                    0.989012         0.993710   \n",
       "attemptsOnTheHighestLevel                  0.266379         0.281988   \n",
       "totalNumOfAttempts                         0.797003         0.810111   \n",
       "averageNumOfTurnsPerCompletedLevel         0.486391         0.511382   \n",
       "doReturnOnLowerLevels                      0.255885         0.271975   \n",
       "numberOfBoostersUsed                       0.852834         0.863115   \n",
       "fractionOfUsefullBoosters                  0.357128         0.357209   \n",
       "totalScore                                 0.986286         0.987379   \n",
       "totalBonusScore                            1.000000         0.997476   \n",
       "totalStarsCount                            0.997476         1.000000   \n",
       "numberOfDaysActuallyPlayed                 0.601374         0.620516   \n",
       "\n",
       "                                    numberOfDaysActuallyPlayed  \n",
       "maxPlayerLevel                                        0.792139  \n",
       "numberOfAttemptedLevels                               0.658216  \n",
       "attemptsOnTheHighestLevel                             0.507272  \n",
       "totalNumOfAttempts                                    0.842967  \n",
       "averageNumOfTurnsPerCompletedLevel                    0.554519  \n",
       "doReturnOnLowerLevels                                 0.354498  \n",
       "numberOfBoostersUsed                                  0.743613  \n",
       "fractionOfUsefullBoosters                             0.065761  \n",
       "totalScore                                            0.612840  \n",
       "totalBonusScore                                       0.601374  \n",
       "totalStarsCount                                       0.620516  \n",
       "numberOfDaysActuallyPlayed                            1.000000  "
      ]
     },
     "execution_count": 32,
     "metadata": {},
     "output_type": "execute_result"
    }
   ],
   "source": [
    "data_x_test.corr()"
   ]
  },
  {
   "cell_type": "code",
   "execution_count": 93,
   "metadata": {
    "collapsed": false
   },
   "outputs": [],
   "source": [
    "features = data_x_train\n",
    "lables = data_y_train\n",
    "\n",
    "''' Numpy массив фич и лейблов '''\n",
    "X = np.array(features)\n",
    "y = lables"
   ]
  },
  {
   "cell_type": "code",
   "execution_count": 99,
   "metadata": {
    "collapsed": false
   },
   "outputs": [],
   "source": [
    "y1 = [i for i in y.Y]"
   ]
  },
  {
   "cell_type": "code",
   "execution_count": 141,
   "metadata": {
    "collapsed": false
   },
   "outputs": [],
   "source": [
    "X_train,X_test,Y_train,Y_test = cross_validation.train_test_split(X,y1, test_size=0.1)"
   ]
  },
  {
   "cell_type": "code",
   "execution_count": 142,
   "metadata": {
    "collapsed": false
   },
   "outputs": [],
   "source": [
    "model = GradientBoostingClassifier(n_estimators=100, loss='exponential')\n",
    "max_depth_array = [1, 2, 3] #, 10]\n",
    "n_estimators_array = [100, 50] #, 300]\n",
    "loss_array = ['deviance', 'exponential']\n",
    "min_samples_split_array = [2, 4, 6]"
   ]
  },
  {
   "cell_type": "code",
   "execution_count": 143,
   "metadata": {
    "collapsed": false
   },
   "outputs": [
    {
     "data": {
      "text/plain": [
       "GradientBoostingClassifier(criterion='friedman_mse', init=None,\n",
       "              learning_rate=0.1, loss='exponential', max_depth=3,\n",
       "              max_features=None, max_leaf_nodes=None,\n",
       "              min_impurity_split=1e-07, min_samples_leaf=1,\n",
       "              min_samples_split=2, min_weight_fraction_leaf=0.0,\n",
       "              n_estimators=100, presort='auto', random_state=None,\n",
       "              subsample=1.0, verbose=0, warm_start=False)"
      ]
     },
     "execution_count": 143,
     "metadata": {},
     "output_type": "execute_result"
    }
   ],
   "source": [
    "model.fit(X_train,Y_train)"
   ]
  },
  {
   "cell_type": "code",
   "execution_count": 144,
   "metadata": {
    "collapsed": false
   },
   "outputs": [
    {
     "data": {
      "text/plain": [
       "0.82325029655990511"
      ]
     },
     "execution_count": 144,
     "metadata": {},
     "output_type": "execute_result"
    }
   ],
   "source": [
    "model.score(X_test,Y_test)"
   ]
  },
  {
   "cell_type": "code",
   "execution_count": 148,
   "metadata": {
    "collapsed": false
   },
   "outputs": [],
   "source": [
    "grid = GridSearchCV(model, param_grid={'loss':loss_array, 'n_estimators':n_estimators_array,  'min_samples_split':min_samples_split_array, 'max_depth':max_depth_array})\n",
    "#grid.fit(X_train,Y_train)\n"
   ]
  },
  {
   "cell_type": "code",
   "execution_count": 149,
   "metadata": {
    "collapsed": false
   },
   "outputs": [
    {
     "data": {
      "text/plain": [
       "GridSearchCV(cv=None, error_score='raise',\n",
       "       estimator=GradientBoostingClassifier(criterion='friedman_mse', init=None,\n",
       "              learning_rate=0.1, loss='exponential', max_depth=3,\n",
       "              max_features=None, max_leaf_nodes=None,\n",
       "              min_impurity_split=1e-07, min_samples_leaf=1,\n",
       "              min_samples_split=2, min_weight_fraction_leaf=0.0,\n",
       "              n_estimators=100, presort='auto', random_state=None,\n",
       "              subsample=1.0, verbose=0, warm_start=False),\n",
       "       fit_params={}, iid=True, n_jobs=1,\n",
       "       param_grid={'n_estimators': [100, 50], 'loss': ['deviance', 'exponential'], 'min_samples_split': [2, 4, 6], 'max_depth': [1, 2, 3]},\n",
       "       pre_dispatch='2*n_jobs', refit=True, scoring=None, verbose=0)"
      ]
     },
     "execution_count": 149,
     "metadata": {},
     "output_type": "execute_result"
    }
   ],
   "source": [
    "grid.fit(X_train, Y_train)"
   ]
  },
  {
   "cell_type": "code",
   "execution_count": 150,
   "metadata": {
    "collapsed": false
   },
   "outputs": [
    {
     "name": "stdout",
     "output_type": "stream",
     "text": [
      " err:  0.16911247803163443 \n",
      " res:  0.8308875219683656 \n",
      " params:  {'n_estimators': 50, 'loss': 'deviance', 'max_depth': 1, 'min_samples_split': 2}\n"
     ]
    }
   ],
   "source": [
    "best_cv_err = 1 - grid.best_score_\n",
    "best_res = grid.best_score_\n",
    "best_param = grid.best_params_\n",
    "best_n_estimators = grid.best_estimator_.n_estimators\n",
    "print(' err: ',best_cv_err,'\\n res: ',best_res, '\\n params: ', best_param) #'\\n n_estimators: ', best_n_estimators,"
   ]
  },
  {
   "cell_type": "code",
   "execution_count": null,
   "metadata": {
    "collapsed": false
   },
   "outputs": [],
   "source": [
    "len(X_train),len(Y_train)"
   ]
  },
  {
   "cell_type": "code",
   "execution_count": null,
   "metadata": {
    "collapsed": false
   },
   "outputs": [],
   "source": [
    "'''from sklearn.svm import SVC\n",
    "svc = SVC()\n",
    "svc.fit(X_train, Y_train)\n",
    "\n",
    "err_train = np.mean(Y_train != svc.predict(X_train))\n",
    "err_test  = np.mean(Y_test  != svc.predict(X_test))\n",
    "print (err_train, err_test)'''"
   ]
  },
  {
   "cell_type": "code",
   "execution_count": null,
   "metadata": {
    "collapsed": false
   },
   "outputs": [],
   "source": [
    "'''from sklearn.grid_search import GridSearchCV\n",
    "C_array = np.logspace(-3, 3, num=7)\n",
    "gamma_array = np.logspace(-5, 2, num=8)\n",
    "svc = SVC(kernel='rbf')\n",
    "grid = GridSearchCV(svc, param_grid={'C': C_array, 'gamma': gamma_array})\n",
    "grid.fit(X_train, Y_train)\n",
    "print ('CV error    = ', 1 - grid.best_score_)\n",
    "print ('best C      = ', grid.best_estimator_.C)\n",
    "print ('best gamma  = ', grid.best_estimator_.gamma)'''"
   ]
  },
  {
   "cell_type": "code",
   "execution_count": 119,
   "metadata": {
    "collapsed": false
   },
   "outputs": [],
   "source": [
    "clf = ExtraTreesRegressor(n_jobs=-1)\n",
    "\n"
   ]
  },
  {
   "cell_type": "code",
   "execution_count": 123,
   "metadata": {
    "collapsed": false
   },
   "outputs": [
    {
     "data": {
      "text/plain": [
       "GridSearchCV(cv=None, error_score='raise',\n",
       "       estimator=ExtraTreesRegressor(bootstrap=False, criterion='mse', max_depth=None,\n",
       "          max_features='auto', max_leaf_nodes=None,\n",
       "          min_impurity_split=1e-07, min_samples_leaf=1,\n",
       "          min_samples_split=2, min_weight_fraction_leaf=0.0,\n",
       "          n_estimators=10, n_jobs=-1, oob_score=False, random_state=None,\n",
       "          verbose=0, warm_start=False),\n",
       "       fit_params={}, iid=True, n_jobs=1,\n",
       "       param_grid={'n_estimators': [10, 5], 'max_features': ['auto', 'sqrt', 'log2'], 'max_depth': [100, 200, 300, 400, 500, 600, 700, 800, 900, 1000]},\n",
       "       pre_dispatch='2*n_jobs', refit=True, scoring=None, verbose=0)"
      ]
     },
     "execution_count": 123,
     "metadata": {},
     "output_type": "execute_result"
    }
   ],
   "source": [
    "n_estimators = [10, 5]\n",
    "max_features = ['auto', 'sqrt', 'log2']\n",
    "max_depth = [100, 200, 300, 400, 500, 600, 700, 800, 900, 1000]\n",
    "\n",
    "grid = GridSearchCV(clf, param_grid={'max_depth': max_depth,'max_features':max_features, 'n_estimators':n_estimators})\n",
    "grid.fit(X_train, np.array(Y_train))"
   ]
  },
  {
   "cell_type": "code",
   "execution_count": 124,
   "metadata": {
    "collapsed": false
   },
   "outputs": [
    {
     "name": "stdout",
     "output_type": "stream",
     "text": [
      " err:  0.6754114436649234 \n",
      " res:  0.3245885563350765 \n",
      " params:  {'n_estimators': 10, 'max_features': 'sqrt', 'max_depth': 400}\n"
     ]
    }
   ],
   "source": [
    "best_cv_err = 1 - grid.best_score_\n",
    "best_res = grid.best_score_\n",
    "best_param = grid.best_params_\n",
    "best_n_estimators = grid.best_estimator_.n_estimators\n",
    "print(' err: ',best_cv_err,'\\n res: ',best_res, '\\n params: ', best_param) #'\\n n_estimators: ', best_n_estimators,"
   ]
  },
  {
   "cell_type": "code",
   "execution_count": null,
   "metadata": {
    "collapsed": true
   },
   "outputs": [],
   "source": []
  }
 ],
 "metadata": {
  "kernelspec": {
   "display_name": "Python 3",
   "language": "python",
   "name": "python3"
  },
  "language_info": {
   "codemirror_mode": {
    "name": "ipython",
    "version": 3
   },
   "file_extension": ".py",
   "mimetype": "text/x-python",
   "name": "python",
   "nbconvert_exporter": "python",
   "pygments_lexer": "ipython3",
   "version": "3.5.2"
  }
 },
 "nbformat": 4,
 "nbformat_minor": 2
}
